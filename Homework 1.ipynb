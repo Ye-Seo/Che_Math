{
 "cells": [
  {
   "cell_type": "markdown",
   "metadata": {
    "id": "Y11mmk-POcdi"
   },
   "source": [
    "# Homework 1 - Basic practice in Jupyter and GitHub.\n",
    "\n",
    "Programming can only be learned by doing. The following exercises blend coding math and text to create clearly defined results. For example, instead of calculating a simple number, you must print the number plus the units (e.g. 24 mg/L). "
   ]
  },
  {
   "cell_type": "markdown",
   "metadata": {
    "id": "pds4TPg7Ocdk"
   },
   "source": [
    "### Academic honesty statement\n",
    "\n",
    "**Ye Seo Park**\n",
    "\n",
    "Place your academic honesty statement below. Here are some acceptable examples.\n",
    "\n",
    "-   I worked alone on this assignment -PYS"
   ]
  },
  {
   "cell_type": "markdown",
   "metadata": {
    "id": "xxt1nnExOcdl"
   },
   "source": [
    "# Problem 1: Gas Laws\n",
    "\n"
   ]
  },
  {
   "cell_type": "markdown",
   "metadata": {
    "id": "JuvQUBLEOcdl"
   },
   "source": [
    "The virial equation for a gas can be represented as $\\frac{PV}{RT} = 1 + \\frac{B}{V} + \\frac{C}{V^2}$ where $V$ is the molar volume.\n",
    "\n",
    "For isopropanol $B=-388 cm^3/mol$ and $C=-26,000 cm^6/mol^2$.\n",
    "\n",
    "We are going to find $V$ for isopropanol at 200 ∘C and 10 bar with a graphical technique.\n",
    "\n",
    "In this problem $R=83.14 cm^3 bar / (mol K)$.\n",
    "\n"
   ]
  },
  {
   "cell_type": "markdown",
   "metadata": {
    "id": "N85v2XfbOcdm"
   },
   "source": [
    "### Compute V for an ideal gas\n",
    "\n"
   ]
  },
  {
   "cell_type": "markdown",
   "metadata": {
    "id": "Plvr16hTOcdm"
   },
   "source": [
    "The ideal gas law is $1 = \\frac{PV}{RT}$. Use this to estimate the volume of isopropanol in the ideal gas state. Print your answer with one decimal place and the printed answer **must include units.**\n"
   ]
  },
  {
   "cell_type": "code",
   "execution_count": 404,
   "metadata": {
    "id": "DO6ejIzSOcdn"
   },
   "outputs": [
    {
     "name": "stdout",
     "output_type": "stream",
     "text": [
      "3933.8 cm³\n"
     ]
    }
   ],
   "source": [
    "import numpy as np \n",
    "from sympy import Symbol, solve\n",
    "\n",
    "#Variables\n",
    "V = Symbol('v') # cm**3\n",
    "n = 1 # mol\n",
    "R = 83.14 # cm**3 bar/(K*mol)\n",
    "T = 200+273.15 # K\n",
    "P = 10 # bar\n",
    "\n",
    "\n",
    "#Calculation\n",
    "equation = (P*V)-(n*R*T)\n",
    "vol = solve(equation).pop()\n",
    "\n",
    "#Result\n",
    "print(round(vol, 1),'cm\\u00b3')"
   ]
  },
  {
   "cell_type": "markdown",
   "metadata": {
    "id": "GhXUb5fmOcdo"
   },
   "source": [
    "### Compute V for the Virial Gas Law\n",
    "\n"
   ]
  },
  {
   "cell_type": "markdown",
   "metadata": {
    "id": "OqlWSmlkOcdo"
   },
   "source": [
    "To do this, create a new function:\n",
    "\n",
    "$f(V) = \\frac{PV}{RT} - 1 - \\frac{B}{V} - \\frac{C}{V^2} = 0$\n",
    "\n",
    "and then find values of $V$ where $f(V) = 0$. Start by defining this function and test that it works.Show that your function works by evaluating it for some examples, including an array of volumes.\n",
    "\n"
   ]
  },
  {
   "cell_type": "code",
   "execution_count": 411,
   "metadata": {
    "id": "OD-HR1wyOcdp"
   },
   "outputs": [
    {
     "name": "stdout",
     "output_type": "stream",
     "text": [
      "[3487.74201641  504.18969462  -58.16261103]\n"
     ]
    }
   ],
   "source": [
    "import numpy as np\n",
    "\n",
    "#Variables\n",
    "B = -388 # in cm**3/mol\n",
    "C = -26000 # in cm**6/mol\n",
    "\n",
    "\n",
    "#Calculation\n",
    "equation = (P*V)/(R*T)-1-(B/V)-(C/V**2)\n",
    "\n",
    "\n",
    "#Result\n",
    "ppar = [P/(R*T), -1.0, -B, -C]\n",
    "print(np.roots(ppar))"
   ]
  },
  {
   "cell_type": "markdown",
   "metadata": {
    "id": "WUJGf7_WOcdp"
   },
   "source": [
    "### Plot f(V) over a range where you can observe a zero\n",
    "\n"
   ]
  },
  {
   "cell_type": "markdown",
   "metadata": {
    "id": "OYRJjO5EOcdq"
   },
   "source": [
    "You should make the x-axis sufficiently zoomed in to estimate the solution to about 10 cm<sup>3</sup>.\n",
    "\n"
   ]
  },
  {
   "cell_type": "code",
   "execution_count": 425,
   "metadata": {
    "id": "EdzefmJCOcdq"
   },
   "outputs": [
    {
     "data": {
      "image/png": "[encoded data removed]",
      "text/plain": [
       "<Figure size 432x288 with 1 Axes>"
      ]
     },
     "metadata": {
      "needs_background": "light"
     },
     "output_type": "display_data"
    }
   ],
   "source": [
    "import numpy as np\n",
    "import matplotlib.pyplot as plt\n",
    "\n",
    "\n",
    "#Definition of f(V)\n",
    "def f(V):\n",
    "    return P*V/(R*T)-1-(B/V)-(C/V**2)\n",
    "\n",
    "#Plot information\n",
    "V = np.linspace (9,11)\n",
    "plt.plot(V, f(V))\n",
    "plt.xlabel('V')\n",
    "plt.ylabel('f(V)')\n",
    "plt.show()"
   ]
  },
  {
   "cell_type": "markdown",
   "metadata": {
    "id": "wfncWUYUOcdq"
   },
   "source": [
    "State in words where the solution(s) are."
   ]
  },
  {
   "cell_type": "markdown",
   "metadata": {},
   "source": [
    "**f(10) = 298**"
   ]
  },
  {
   "cell_type": "markdown",
   "metadata": {
    "id": "AECwd73cOcdr"
   },
   "source": [
    "### Express this in the form of a cubic polynomial in $V$\n",
    "\n"
   ]
  },
  {
   "cell_type": "markdown",
   "metadata": {
    "id": "ihZFqQofOcdr"
   },
   "source": [
    "Derive an alternative expression for f(V) where it is a cubic polynomial of the form $0 = a V^3 + b V^2 + c V + d$. Write this expression in LaTeX, with explicit definitions for the coefficients.\n",
    "\n"
   ]
  },
  {
   "cell_type": "code",
   "execution_count": 575,
   "metadata": {},
   "outputs": [
    {
     "name": "stdout",
     "output_type": "stream",
     "text": [
      "[3487.74201641  504.18969462  -58.16261103]\n"
     ]
    }
   ],
   "source": [
    "import numpy as np\n",
    "\n",
    "#Variables\n",
    "B = -388 # cm**3/mol\n",
    "C = -26000 # cm**6/mol\n",
    "\n",
    "#Definition of f(V)\n",
    "def f(V):\n",
    "    return P*V/(R*T)-1-(B/V)-(C/V**2)\n",
    "\n",
    "#Cubic polynomial form (if, V=/0)\n",
    "equation = (P/(R*T)*V**3)-(V**2)-(B*V)-(C)\n",
    "\n",
    "\n",
    "#Result\n",
    "ppar = [P/(R*T), -1.0, -B, -C]\n",
    "print(np.roots(ppar))"
   ]
  },
  {
   "cell_type": "markdown",
   "metadata": {},
   "source": [
    "\n",
    "$$ 0 = 3487.74V^3 -1.0V^2 -504.19V + 58.16 $$"
   ]
  },
  {
   "cell_type": "markdown",
   "metadata": {
    "id": "lU-AncedOcdr"
   },
   "source": [
    "# Problem 2: Running and plotting an ODE\n",
    "\n",
    "Most programming is repeative. Once you learn how to run an ODE solver, running it again in the future involves just editing prior code. We discussed the Lorenz equations in class, now we'll run them ourselves. The equations are as follows: \n",
    "\n",
    "\\begin{align}\n",
    "\\dot{x} & = \\sigma(y-x) \\\\\n",
    "\\dot{y} & = \\rho x - y - xz \\\\\n",
    "\\dot{z} & = -\\beta z + xy\n",
    "\\end{align}\n",
    "\n",
    "These equations are to describe a 2 dimensional layer of fluid that is heat from below and cooled from above. The derivation of these equations is beyond our interest here but can be found easily online. We want to focus on how to simulate such equations.\n",
    "\n",
    "In the above, x is proportional to the intensity of the convective motion, while y is proportional to the temperature difference between the ascending and descending currents, similar signs of x and y denoting that warm fluid is rising and cold fluid is descending. The variable z is proportional to the distortion of vertical temperature profile from linearity, a positive value indicating that the strongest gradients occur near the boundaries.\n",
    "\n",
    "Let the parameters be\n",
    "\\begin{align}\n",
    "\\sigma =10\\\\\n",
    "\\beta =8/3\\\\\n",
    "\\rho =28\\\\\n",
    "\\end{align}\n",
    "\n",
    "We will ignore units for this problem.\n",
    "\n",
    "In the space below, \n",
    "1. Simulate this system with initial conditions of x = y = z = 1. Simulate out to time 1000 and take 0.1 time unit step sizes. Save the necessary results in a matrix.\n"
   ]
  },
  {
   "cell_type": "code",
   "execution_count": 576,
   "metadata": {},
   "outputs": [
    {
     "name": "stdout",
     "output_type": "stream",
     "text": [
      "[ 1.          2.1331076   6.54252716 ...  3.77306347  9.09815183\n",
      " 16.45193839]\n"
     ]
    }
   ],
   "source": [
    "from scipy.integrate import odeint\n",
    "import numpy as np\n",
    "import matplotlib.pyplot as plt\n",
    "\n",
    "#Definition of lorenz equation\n",
    "def lorenz(xyz, t, s=10, r=28, b=8/3):\n",
    "    x, y, z = xyz\n",
    "    dxdt = s*(y - x)\n",
    "    dydt = r*x-y-x*z \n",
    "    dzdt = -b*z+x*y\n",
    "    return(np.array([dxdt, dydt, dzdt]))\n",
    "\n",
    "#Calculation\n",
    "y0 = np.array([1, 1, 1])\n",
    "t = np.arange(0, 1000, 0.1)\n",
    "y = odeint(lorenz, y0, t, args=(10, 28, 8/3))\n",
    "\n",
    "#Result\n",
    "print(y[:,0])"
   ]
  },
  {
   "cell_type": "markdown",
   "metadata": {
    "id": "S70-xhVhzMPQ"
   },
   "source": [
    "2. Simulate the system again but with x = y = 1 and z = 0.9999 (precisely). Save the necessary results in a matrix."
   ]
  },
  {
   "cell_type": "code",
   "execution_count": 577,
   "metadata": {
    "id": "5RRQvOtgzUZM"
   },
   "outputs": [
    {
     "name": "stdout",
     "output_type": "stream",
     "text": [
      "[  1.           2.1331123    6.54255502 ... -11.58639618 -12.63865241\n",
      "  -7.87733078]\n"
     ]
    }
   ],
   "source": [
    "from scipy.integrate import odeint\n",
    "import numpy as np\n",
    "import matplotlib.pyplot as plt\n",
    "\n",
    "#Definition of lorenz equation\n",
    "def lorenz(xyz, t, s=10, r=28, b=8/3):\n",
    "    x, y, z = xyz\n",
    "    dxdt = s*(y - x)\n",
    "    dydt = r*x-y-x*z \n",
    "    dzdt = -b*z+x*y\n",
    "    return(np.array([dxdt, dydt, dzdt]))\n",
    "\n",
    "#Calculation\n",
    "y0 = np.array([1, 1, 0.9999])\n",
    "t = np.arange(0, 1000, 0.1)\n",
    "y = odeint(lorenz, y0, t, args=(10, 28, 8/3))\n",
    "\n",
    "#Result\n",
    "print(y[:,0])"
   ]
  },
  {
   "cell_type": "markdown",
   "metadata": {
    "id": "SThZqhvvzUF7"
   },
   "source": [
    "3. On a single plot, plot x vs y from 1 and 2 above. Be sure to label axes."
   ]
  },
  {
   "cell_type": "code",
   "execution_count": 578,
   "metadata": {},
   "outputs": [
    {
     "data": {
      "image/png": "[encoded data removed]",
      "text/plain": [
       "<Figure size 432x288 with 1 Axes>"
      ]
     },
     "metadata": {
      "needs_background": "light"
     },
     "output_type": "display_data"
    }
   ],
   "source": [
    "from scipy.integrate import odeint\n",
    "import numpy as np\n",
    "import matplotlib.pyplot as plt\n",
    "\n",
    "#Definition of lorenz equation\n",
    "def lorenz(xyz, t, s=10, r=28, b=8/3):\n",
    "    x, y, z = xyz\n",
    "    dxdt = s*(y - x)\n",
    "    dydt = r*x-y-x*z \n",
    "    dzdt = -b*z+x*y\n",
    "    return(np.array([dxdt, dydt, dzdt]))\n",
    "\n",
    "#Calculation\n",
    "y0 = np.array([1, 1, 1])\n",
    "t = np.arange(0, 1000, 0.1)\n",
    "y = odeint(lorenz, y0, t, args=(10, 28, 8/3))\n",
    "\n",
    "y0 = np.array([1, 1, 1])\n",
    "t = np.arange(0, 1000, 0.9999)\n",
    "y = odeint(lorenz, y0, t, args=(10, 28, 8/3))\n",
    "\n",
    "\n",
    "#Plot information\n",
    "plt.plot(dxdt, dydt)\n",
    "plt.xlabel(\"x\")\n",
    "plt.ylabel(\"y\")\n",
    "plt.show()"
   ]
  },
  {
   "cell_type": "markdown",
   "metadata": {
    "id": "aYSbyjz0zUpj"
   },
   "source": [
    "4. On a single plot, plot x vs z from 1 and 2 above. Be sure to label axes."
   ]
  },
  {
   "cell_type": "code",
   "execution_count": 579,
   "metadata": {
    "id": "xpzagdiezU5U"
   },
   "outputs": [
    {
     "data": {
      "image/png": "[encoded data removed]",
      "text/plain": [
       "<Figure size 432x288 with 1 Axes>"
      ]
     },
     "metadata": {
      "needs_background": "light"
     },
     "output_type": "display_data"
    }
   ],
   "source": [
    "from scipy.integrate import odeint\n",
    "import numpy as np\n",
    "import matplotlib.pyplot as plt\n",
    "\n",
    "#Definition of lorenz equation\n",
    "def lorenz(xyz, t, s=10, r=28, b=8/3):\n",
    "    x, y, z = xyz\n",
    "    dxdt = s*(y - x)\n",
    "    dydt = r*x-y-x*z \n",
    "    dzdt = -b*z+x*y\n",
    "    return(np.array([dxdt, dydt, dzdt]))\n",
    "\n",
    "#Calculation\n",
    "y0 = np.array([1, 1, 1])\n",
    "t = np.arange(0, 1000, 0.1)\n",
    "y = odeint(lorenz, y0, t, args=(10, 28, 8/3))\n",
    "\n",
    "y0 = np.array([1, 1, 1])\n",
    "t = np.arange(0, 1000, 0.9999)\n",
    "y = odeint(lorenz, y0, t, args=(10, 28, 8/3))\n",
    "\n",
    "#Plot information\n",
    "plt.plot(dxdt, dzdt)\n",
    "plt.xlabel(\"x\")\n",
    "plt.ylabel(\"z\")\n",
    "plt.show()"
   ]
  },
  {
   "cell_type": "markdown",
   "metadata": {
    "id": "9YXWc3G_zcOB"
   },
   "source": [
    "5. On a single plot, plot x vs time from 1 and 2 above. Be sure to label."
   ]
  },
  {
   "cell_type": "code",
   "execution_count": 574,
   "metadata": {
    "id": "eJ_NZB5rzcdg"
   },
   "outputs": [
    {
     "data": {
      "image/png": "[encoded data removed]",
      "text/plain": [
       "<Figure size 432x288 with 1 Axes>"
      ]
     },
     "metadata": {
      "needs_background": "light"
     },
     "output_type": "display_data"
    }
   ],
   "source": [
    "from scipy.integrate import odeint\n",
    "import numpy as np\n",
    "import matplotlib.pyplot as plt\n",
    "\n",
    "#Definition of lorenz equation\n",
    "def lorenz(xyz, t, s=10, r=28, b=8/3):\n",
    "    x, y, z = xyz\n",
    "    dxdt = s*(y - x)\n",
    "    dydt = r*x-y-x*z \n",
    "    dzdt = -b*z+x*y\n",
    "    return(np.array([dxdt, dydt, dzdt]))\n",
    "\n",
    "#Calculation\n",
    "y0 = np.array([1, 1, 1])\n",
    "t = np.arange(0, 1000, 0.1)\n",
    "y = odeint(lorenz, y0, t, args=(10, 28, 8/3))\n",
    "\n",
    "y0 = np.array([1, 1, 1])\n",
    "t = np.arange(0, 1000, 0.9999)\n",
    "y = odeint(lorenz, y0, t, args=(10, 28, 8/3))\n",
    "\n",
    "#Plot information\n",
    "plt.plot(dxdt)\n",
    "plt.xlabel(\"x\")\n",
    "plt.ylabel(\"t\")\n",
    "plt.show()"
   ]
  },
  {
   "cell_type": "markdown",
   "metadata": {
    "id": "c0BHSS6kzcrm"
   },
   "source": [
    "6. After completing all simulations, comment on how changing the initial value of z by 0.01% impacted the simulation outcomes. Be sure to use a Markdown cell for this.\n",
    "\n",
    "**It goes down negative.**"
   ]
  },
  {
   "cell_type": "markdown",
   "metadata": {
    "id": "2YUQOoW6Ocds"
   },
   "source": [
    "# Problem 3 - Reading COVID data and Prediction\n",
    "\n",
    "I hope I mentioned in class that when it comes to addressing engineering questions computationally, you will often be expected to learn on your own. This means using google or what have you and searching for specific libraries that can help solve the problem at hand. \n",
    "\n",
    "Here, I have provided some data that I pulled from the New York Time's GitHub COVID-19 data repository. The file is called florida.csv and contains COVID outbreak data specific to Florida. The data contains: the week since the start of the outbreak, the 7 day sliding average of the number of COVID positive cases and the 7 day sliding average of the number of deaths reported.\n",
    "\n",
    "In the cell below, write the code necessary to load this data into the workspace and give the resulting array the name \"dat\". The numpy.genfromtxt function may be helpful."
   ]
  },
  {
   "cell_type": "code",
   "execution_count": 587,
   "metadata": {
    "id": "75fWQ1G8Ocds"
   },
   "outputs": [
    {
     "data": {
      "text/html": [
       "<div>\n",
       "<style scoped>\n",
       "    .dataframe tbody tr th:only-of-type {\n",
       "        vertical-align: middle;\n",
       "    }\n",
       "\n",
       "    .dataframe tbody tr th {\n",
       "        vertical-align: top;\n",
       "    }\n",
       "\n",
       "    .dataframe thead th {\n",
       "        text-align: right;\n",
       "    }\n",
       "</style>\n",
       "<table border=\"1\" class=\"dataframe\">\n",
       "  <thead>\n",
       "    <tr style=\"text-align: right;\">\n",
       "      <th></th>\n",
       "      <th>week</th>\n",
       "      <th>cases_avg</th>\n",
       "      <th>deaths_avg</th>\n",
       "    </tr>\n",
       "  </thead>\n",
       "  <tbody>\n",
       "    <tr>\n",
       "      <th>0</th>\n",
       "      <td>1</td>\n",
       "      <td>0.29</td>\n",
       "      <td>0.00</td>\n",
       "    </tr>\n",
       "    <tr>\n",
       "      <th>1</th>\n",
       "      <td>2</td>\n",
       "      <td>0.29</td>\n",
       "      <td>0.00</td>\n",
       "    </tr>\n",
       "    <tr>\n",
       "      <th>2</th>\n",
       "      <td>3</td>\n",
       "      <td>0.43</td>\n",
       "      <td>0.00</td>\n",
       "    </tr>\n",
       "    <tr>\n",
       "      <th>3</th>\n",
       "      <td>4</td>\n",
       "      <td>0.43</td>\n",
       "      <td>0.00</td>\n",
       "    </tr>\n",
       "    <tr>\n",
       "      <th>4</th>\n",
       "      <td>5</td>\n",
       "      <td>0.57</td>\n",
       "      <td>0.00</td>\n",
       "    </tr>\n",
       "    <tr>\n",
       "      <th>...</th>\n",
       "      <td>...</td>\n",
       "      <td>...</td>\n",
       "      <td>...</td>\n",
       "    </tr>\n",
       "    <tr>\n",
       "      <th>536</th>\n",
       "      <td>537</td>\n",
       "      <td>23792.86</td>\n",
       "      <td>201.29</td>\n",
       "    </tr>\n",
       "    <tr>\n",
       "      <th>537</th>\n",
       "      <td>538</td>\n",
       "      <td>21534.29</td>\n",
       "      <td>212.29</td>\n",
       "    </tr>\n",
       "    <tr>\n",
       "      <th>538</th>\n",
       "      <td>539</td>\n",
       "      <td>23313.86</td>\n",
       "      <td>212.29</td>\n",
       "    </tr>\n",
       "    <tr>\n",
       "      <th>539</th>\n",
       "      <td>540</td>\n",
       "      <td>23313.86</td>\n",
       "      <td>212.29</td>\n",
       "    </tr>\n",
       "    <tr>\n",
       "      <th>540</th>\n",
       "      <td>541</td>\n",
       "      <td>21329.14</td>\n",
       "      <td>227.57</td>\n",
       "    </tr>\n",
       "  </tbody>\n",
       "</table>\n",
       "<p>541 rows × 3 columns</p>\n",
       "</div>"
      ],
      "text/plain": [
       "     week  cases_avg  deaths_avg\n",
       "0       1       0.29        0.00\n",
       "1       2       0.29        0.00\n",
       "2       3       0.43        0.00\n",
       "3       4       0.43        0.00\n",
       "4       5       0.57        0.00\n",
       "..    ...        ...         ...\n",
       "536   537   23792.86      201.29\n",
       "537   538   21534.29      212.29\n",
       "538   539   23313.86      212.29\n",
       "539   540   23313.86      212.29\n",
       "540   541   21329.14      227.57\n",
       "\n",
       "[541 rows x 3 columns]"
      ]
     },
     "execution_count": 587,
     "metadata": {},
     "output_type": "execute_result"
    }
   ],
   "source": [
    "import numpy as np\n",
    "import pandas as pd\n",
    "\n",
    "#Calculation\n",
    "df = pd.read_csv(\"_Python/florida.csv\")\n",
    "data = \"_Python/florida.csv\"\n",
    "np.genfromtxt(data, delimiter = \",\")\n",
    "df.rename(columns={\"nan\":\"dat\"})"
   ]
  },
  {
   "cell_type": "markdown",
   "metadata": {
    "id": "wBa_ZzJfOcdt"
   },
   "source": [
    "Next, make a points plot with the average number of cases on the x axis and the average number of deaths on the y axis. Have the color of the points change according to the week of the infection. There are a lot of ways to generate such a plot. Consider matlibplot and ggplot2. After plotting, create a markdown cell and comment on the how these two features have evolved in time."
   ]
  },
  {
   "cell_type": "code",
   "execution_count": 276,
   "metadata": {
    "id": "TFvw9tnoOcdt"
   },
   "outputs": [
    {
     "data": {
      "image/png": "[encoded data removed]",
      "text/plain": [
       "<Figure size 432x288 with 2 Axes>"
      ]
     },
     "metadata": {
      "needs_background": "light"
     },
     "output_type": "display_data"
    }
   ],
   "source": [
    "import numpy as np\n",
    "import matplotlib.pyplot as plt\n",
    "import pandas as pd\n",
    "\n",
    "#Calculation\n",
    "df.plot.scatter(x = \"cases_avg\", y = \"deaths_avg\", c = \"week\", cmap = 'viridis')\n",
    "plt.show()"
   ]
  },
  {
   "cell_type": "markdown",
   "metadata": {
    "id": "BVghMhc7Ocdt"
   },
   "source": [
    "**Put Commentary here:**"
   ]
  },
  {
   "cell_type": "markdown",
   "metadata": {},
   "source": [
    "**The average number of cases and death increases and then decreases again in the circular behavior per 100 weeks.\n",
    "It looks like going back to near the starting point per 100 weeks until 300 weeks, and the graph shifted to the right, which means cases increases as time goes.\n",
    "But from the 400th week, there was few cases and death within 50, but case and death increased gradually.**"
   ]
  },
  {
   "cell_type": "markdown",
   "metadata": {
    "id": "qzFABY1POcdt"
   },
   "source": [
    "One goal of every scientist should be to use data for predictions. Here, we'll use this goal as a chance to practice for loops. \n",
    "\n",
    "Ideally, in a world without delays and nonlinearities, the best way to predict an outcome is with a linear model, aka a straight line. Right a \"for loop\" which adds 4 straight lines to our plot of average infection and average mortality. Each line should have an intercept at zero and a slope of 0.001, 0.01, 0.1 and 1. "
   ]
  },
  {
   "cell_type": "code",
   "execution_count": 588,
   "metadata": {
    "id": "RhjgwVzhOcdu",
    "scrolled": true
   },
   "outputs": [
    {
     "data": {
      "image/png": "[encoded data removed]",
      "text/plain": [
       "<Figure size 432x288 with 2 Axes>"
      ]
     },
     "metadata": {
      "needs_background": "light"
     },
     "output_type": "display_data"
    }
   ],
   "source": [
    "import numpy as np\n",
    "import matplotlib.pyplot as plt\n",
    "import pandas as pd\n",
    "\n",
    "#Calculation\n",
    "df.plot.scatter(x = \"cases_avg\", y = \"deaths_avg\", c = \"week\", cmap = 'viridis')\n",
    "x = df[\"cases_avg\"]\n",
    "y = df[\"deaths_avg\"]\n",
    "\n",
    "b = 0 #\n",
    "w_guess = [0.001, 0.01, 0.1, 1] #\n",
    "\n",
    "#Linear model for loop\n",
    "for w in w_guess:\n",
    "    y_predicted = b + w*x\n",
    "    plt.plot(x,y_predicted)\n",
    "    \n",
    "    \n",
    "plt.show()"
   ]
  },
  {
   "cell_type": "markdown",
   "metadata": {
    "id": "8miF6AstOcdu"
   },
   "source": [
    "Using just your eyes, which straight line seems to best fit the data? What does best fit mean? "
   ]
  },
  {
   "cell_type": "markdown",
   "metadata": {},
   "source": [
    "**The yellow straight line, y=0.01x is best fit to the data. best fit means that all the values (points) compressed in a line.**"
   ]
  },
  {
   "cell_type": "markdown",
   "metadata": {},
   "source": [
    "# Problem 4 Github\n",
    "\n",
    "- Create a github repository called \"Che_Math\".\n",
    "- Create a read me file that explain that this repository will include code related to homeworks and projects from this course.\n",
    "- Push this homework assignment to your repository.\n",
    "- Enter the link you your repository here:\n",
    "\n",
    "\n",
    "**Upload your jupyter notebook to Canvas for grading. Thank you!"
   ]
  },
  {
   "cell_type": "code",
   "execution_count": null,
   "metadata": {},
   "outputs": [],
   "source": [
    "https://github.com/Ye-Seo/Che_Math.git"
   ]
  }
 ],
 "metadata": {
  "colab": {
   "name": "Homework 1 Basic Python.ipynb",
   "provenance": []
  },
  "kernelspec": {
   "display_name": "Python 3 (ipykernel)",
   "language": "python",
   "name": "python3"
  },
  "language_info": {
   "codemirror_mode": {
    "name": "ipython",
    "version": 3
   },
   "file_extension": ".py",
   "mimetype": "text/x-python",
   "name": "python",
   "nbconvert_exporter": "python",
   "pygments_lexer": "ipython3",
   "version": "3.9.12"
  },
  "org": null
 },
 "nbformat": 4,
 "nbformat_minor": 1
}
